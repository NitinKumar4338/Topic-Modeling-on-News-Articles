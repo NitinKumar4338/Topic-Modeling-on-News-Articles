{
  "nbformat": 4,
  "nbformat_minor": 0,
  "metadata": {
    "kernelspec": {
      "display_name": "Python 3",
      "language": "python",
      "name": "python3"
    },
    "language_info": {
      "codemirror_mode": {
        "name": "ipython",
        "version": 3
      },
      "file_extension": ".py",
      "mimetype": "text/x-python",
      "name": "python",
      "nbconvert_exporter": "python",
      "pygments_lexer": "ipython3",
      "version": "3.6.6"
    },
    "colab": {
      "provenance": [],
      "include_colab_link": true
    }
  },
  "cells": [
    {
      "cell_type": "markdown",
      "metadata": {
        "id": "view-in-github",
        "colab_type": "text"
      },
      "source": [
        "<a href=\"https://colab.research.google.com/github/NitinKumar4338/Topic-Modeling-on-News-Articles/blob/main/News_CSV.ipynb\" target=\"_parent\"><img src=\"https://colab.research.google.com/assets/colab-badge.svg\" alt=\"Open In Colab\"/></a>"
      ]
    },
    {
      "cell_type": "code",
      "source": [
        "import pandas as pd\n",
        "import numpy as np\n",
        "import glob\n",
        "import os"
      ],
      "metadata": {
        "id": "k9Fo4ujTyffV"
      },
      "execution_count": 1,
      "outputs": []
    },
    {
      "cell_type": "code",
      "source": [
        "data_folder = \"D:\\\\Alma Better\\\\Clustering\\\\Untitled Folder-20221004T060417Z-001\\\\Untitled Folder\\\\\"\n",
        "folders = [\"business\",\"entertainment\",\"politics\",\"sport\",\"tech\"]"
      ],
      "metadata": {
        "id": "orKH9NUDp4ok"
      },
      "execution_count": null,
      "outputs": []
    },
    {
      "cell_type": "code",
      "source": [
        "os.listdir(data_folder)"
      ],
      "metadata": {
        "id": "PhnHo3znqA01"
      },
      "execution_count": null,
      "outputs": []
    },
    {
      "cell_type": "code",
      "source": [
        "files = os.listdir('D:\\\\Alma Better\\\\Clustering\\\\Untitled Folder-20221004T060417Z-001\\\\Untitled Folder\\\\')"
      ],
      "metadata": {
        "id": "p83J3ktVqBjb"
      },
      "execution_count": null,
      "outputs": []
    },
    {
      "cell_type": "code",
      "source": [
        "folderslist = [f for f in os.listdir(data_folder) if not f.startswith('.')]"
      ],
      "metadata": {
        "id": "C9Uop7kbqEh7"
      },
      "execution_count": null,
      "outputs": []
    },
    {
      "cell_type": "code",
      "source": [
        "folderslist"
      ],
      "metadata": {
        "id": "8kzqn2jxqJfs"
      },
      "execution_count": null,
      "outputs": []
    },
    {
      "cell_type": "code",
      "source": [
        "news = []\n",
        "newstype = []"
      ],
      "metadata": {
        "id": "uvwOAY7lqMGs"
      },
      "execution_count": null,
      "outputs": []
    },
    {
      "cell_type": "code",
      "source": [
        "for folder in folders:\n",
        "    folder_path = 'D:\\\\Alma Better\\\\Clustering\\\\Untitled Folder-20221004T060417Z-001\\\\Untitled Folder\\\\'+folder+'/'\n",
        "    files = os.listdir(folder_path)\n",
        "    for text_file in files:\n",
        "        file_path = folder_path + \"/\" +text_file\n",
        "        with open(file_path, errors='replace') as f:\n",
        "            data = f.readlines()\n",
        "        data = ' '.join(data)\n",
        "        news.append(data)\n",
        "        newstype.append(folder)"
      ],
      "metadata": {
        "id": "E7oRh6RuqOTr"
      },
      "execution_count": null,
      "outputs": []
    },
    {
      "cell_type": "code",
      "source": [
        "len(newstype)"
      ],
      "metadata": {
        "id": "8VxcA5TEqQmT"
      },
      "execution_count": null,
      "outputs": []
    },
    {
      "cell_type": "code",
      "source": [
        "#make a dict of news and its corresponding type\n",
        "datadict = {'news':news, 'type':newstype}"
      ],
      "metadata": {
        "id": "Vz0FITdHqRN8"
      },
      "execution_count": null,
      "outputs": []
    },
    {
      "cell_type": "code",
      "source": [
        "#write the dictionary to a csv file\n",
        "df = pd.DataFrame(datadict)\n",
        "df.to_csv('./bbc.csv')"
      ],
      "metadata": {
        "id": "N6y-kXJfqVfD"
      },
      "execution_count": null,
      "outputs": []
    }
  ]
}